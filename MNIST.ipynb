{
 "cells": [
  {
   "cell_type": "code",
   "execution_count": 1,
   "outputs": [],
   "source": [
    "# thực hiện theo hướng dẫn của tác giả Nguyễn Thanh Tuấn ở sách deep learning cơ bản\n",
    "# 1. Thêm các thư viện cần thiết\n",
    "import numpy as np\n",
    "import matplotlib.pyplot as plt\n",
    "from keras.models import Sequential\n",
    "from keras.layers import Dense, Dropout, Activation, Flatten\n",
    "from keras.layers import Conv2D, MaxPooling2D\n",
    "from keras.utils import np_utils\n",
    "from keras.datasets import mnist\n"
   ],
   "metadata": {
    "collapsed": false
   }
  },
  {
   "cell_type": "code",
   "execution_count": 2,
   "outputs": [
    {
     "name": "stdout",
     "output_type": "stream",
     "text": [
      "(50000, 28, 28)\n"
     ]
    }
   ],
   "source": [
    "# 2. Load dữ liệu MNIST\n",
    "(X_train, y_train), (X_test, y_test) = mnist.load_data()\n",
    "X_val, y_val = X_train[50000:60000,:], y_train[50000:60000]\n",
    "X_train, y_train = X_train[:50000,:], y_train[:50000]\n",
    "print(X_train.shape)"
   ],
   "metadata": {
    "collapsed": false
   }
  },
  {
   "cell_type": "code",
   "execution_count": 3,
   "outputs": [
    {
     "name": "stdout",
     "output_type": "stream",
     "text": [
      "(50000, 28, 28, 1)\n"
     ]
    }
   ],
   "source": [
    "# 3. Reshape lại dữ liệu\n",
    "X_train = X_train.reshape(X_train.shape[0], 28, 28, 1)\n",
    "X_val = X_val.reshape(X_val.shape[0], 28, 28, 1)\n",
    "X_test = X_test.reshape(X_test.shape[0], 28, 28, 1)\n",
    "print(X_train.shape)"
   ],
   "metadata": {
    "collapsed": false
   }
  },
  {
   "cell_type": "code",
   "execution_count": 4,
   "outputs": [
    {
     "name": "stdout",
     "output_type": "stream",
     "text": [
      "Dữ liệu y ban đầu  5\n",
      "Dữ liệu y sau one-hot encoding  [0. 0. 0. 0. 0. 1. 0. 0. 0. 0.]\n"
     ]
    }
   ],
   "source": [
    "# 4. One hot encoding label (Y)\n",
    "Y_train = np_utils.to_categorical(y_train, 10)\n",
    "Y_val = np_utils.to_categorical(y_val, 10)\n",
    "Y_test = np_utils.to_categorical(y_test, 10)\n",
    "print('Dữ liệu y ban đầu ', y_train[0])\n",
    "print('Dữ liệu y sau one-hot encoding ',Y_train[0])"
   ],
   "metadata": {
    "collapsed": false
   }
  },
  {
   "cell_type": "code",
   "execution_count": 5,
   "outputs": [],
   "source": [
    "# 5. Định nghĩa model\n",
    "model = Sequential()\n",
    "# Thêm Convolutional layer với 32 kernel, kích thước kernel 3*3\n",
    "# dùng hàm sigmoid làm activation và chỉ rõ input_shape cho layer đầu tiên\n",
    "model.add(Conv2D(32, (3, 3), activation='sigmoid', input_shape=(28,28,1)))\n",
    "# Thêm Convolutional layer\n",
    "model.add(Conv2D(32, (3, 3), activation='sigmoid'))\n",
    "# Thêm Max pooling layer\n",
    "model.add(MaxPooling2D(pool_size=(2,2)))\n",
    "# Flatten layer chuyển từ tensor sang vector\n",
    "model.add(Flatten())\n",
    "# Thêm Fully Connected layer với 128 nodes và dùng hàm sigmoid\n",
    "model.add(Dense(128, activation='sigmoid'))\n",
    "# Output layer với 10 node và dùng softmax function để chuyển sang xác suất.\n",
    "model.add(Dense(10, activation='softmax'))"
   ],
   "metadata": {
    "collapsed": false
   }
  },
  {
   "cell_type": "code",
   "execution_count": 6,
   "outputs": [
    {
     "name": "stdout",
     "output_type": "stream",
     "text": [
      "Epoch 1/10\n",
      "1563/1563 [==============================] - 48s 31ms/step - loss: 0.4010 - accuracy: 0.8892 - val_loss: 0.0776 - val_accuracy: 0.9801\n",
      "Epoch 2/10\n",
      "1563/1563 [==============================] - 48s 30ms/step - loss: 0.0663 - accuracy: 0.9814 - val_loss: 0.0578 - val_accuracy: 0.9828\n",
      "Epoch 3/10\n",
      "1563/1563 [==============================] - 60s 39ms/step - loss: 0.0386 - accuracy: 0.9893 - val_loss: 0.0521 - val_accuracy: 0.9846\n",
      "Epoch 4/10\n",
      "1563/1563 [==============================] - 65s 41ms/step - loss: 0.0264 - accuracy: 0.9926 - val_loss: 0.0407 - val_accuracy: 0.9883\n",
      "Epoch 5/10\n",
      "1563/1563 [==============================] - 51s 33ms/step - loss: 0.0166 - accuracy: 0.9956 - val_loss: 0.0430 - val_accuracy: 0.9879\n",
      "Epoch 6/10\n",
      "1563/1563 [==============================] - 57s 36ms/step - loss: 0.0129 - accuracy: 0.9965 - val_loss: 0.0452 - val_accuracy: 0.9878\n",
      "Epoch 7/10\n",
      "1563/1563 [==============================] - 53s 34ms/step - loss: 0.0094 - accuracy: 0.9977 - val_loss: 0.0358 - val_accuracy: 0.9891\n",
      "Epoch 8/10\n",
      "1563/1563 [==============================] - 60s 38ms/step - loss: 0.0069 - accuracy: 0.9982 - val_loss: 0.0486 - val_accuracy: 0.9867\n",
      "Epoch 9/10\n",
      "1563/1563 [==============================] - 56s 36ms/step - loss: 0.0039 - accuracy: 0.9993 - val_loss: 0.0422 - val_accuracy: 0.9890\n",
      "Epoch 10/10\n",
      "1563/1563 [==============================] - 57s 37ms/step - loss: 0.0035 - accuracy: 0.9992 - val_loss: 0.0431 - val_accuracy: 0.9882\n"
     ]
    }
   ],
   "source": [
    "# 6. Compile model, chỉ rõ hàm loss_function nào được sử dụng, phương thức\n",
    "# đùng để tối ưu hàm loss function.\n",
    "model.compile(loss='categorical_crossentropy',\n",
    "optimizer='adam',\n",
    "metrics=['accuracy'])\n",
    "# 7. Thực hiện train model với data\n",
    "H = model.fit(X_train, Y_train, validation_data=(X_val, Y_val),\n",
    "batch_size=32, epochs=10, verbose=1)"
   ],
   "metadata": {
    "collapsed": false
   }
  },
  {
   "cell_type": "code",
   "execution_count": 8,
   "outputs": [
    {
     "name": "stdout",
     "output_type": "stream",
     "text": [
      "[0.03310016170144081, 0.9901999831199646]\n"
     ]
    }
   ],
   "source": [
    "from sklearn.metrics import accuracy_score\n",
    "score = model.evaluate(X_test, Y_test, verbose=0)\n",
    "print(score)\n",
    "Y_predict =model.predict(X_test)\n",
    "prediction = np.array([])\n",
    "for i in Y_predict:\n",
    "    prediction = np.append(prediction, np.argmax(i))"
   ],
   "metadata": {
    "collapsed": false
   }
  },
  {
   "cell_type": "code",
   "execution_count": 9,
   "outputs": [
    {
     "name": "stdout",
     "output_type": "stream",
     "text": [
      "0.9902\n"
     ]
    }
   ],
   "source": [
    "print(accuracy_score(y_test, prediction))"
   ],
   "metadata": {
    "collapsed": false
   }
  }
 ],
 "metadata": {
  "kernelspec": {
   "display_name": "Python 3",
   "language": "python",
   "name": "python3"
  },
  "language_info": {
   "codemirror_mode": {
    "name": "ipython",
    "version": 2
   },
   "file_extension": ".py",
   "mimetype": "text/x-python",
   "name": "python",
   "nbconvert_exporter": "python",
   "pygments_lexer": "ipython2",
   "version": "2.7.6"
  }
 },
 "nbformat": 4,
 "nbformat_minor": 0
}
