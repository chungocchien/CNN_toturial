{
 "cells": [
  {
   "cell_type": "code",
   "execution_count": 47,
   "outputs": [],
   "source": [
    "import numpy as np\n",
    "# Load dữ liệu cifar10\n",
    "from keras.datasets import cifar10\n",
    "from keras.models import Sequential\n",
    "from keras.layers import Dense, Dropout, Activation, Flatten\n",
    "from keras.layers import Conv2D, MaxPooling2D\n",
    "from keras.utils import np_utils"
   ],
   "metadata": {
    "collapsed": false
   }
  },
  {
   "cell_type": "code",
   "execution_count": 48,
   "outputs": [],
   "source": [
    "(x_train, y_train), (x_test, y_test) = cifar10.load_data()"
   ],
   "metadata": {
    "collapsed": false
   }
  },
  {
   "cell_type": "code",
   "execution_count": 49,
   "outputs": [
    {
     "data": {
      "text/plain": "(40000, 32, 32, 3)"
     },
     "execution_count": 49,
     "metadata": {},
     "output_type": "execute_result"
    }
   ],
   "source": [
    "x_val, y_val = x_train[40000:50000,:], y_train[40000:50000]\n",
    "x_train, y_train = x_train[:40000,:], y_train[:40000]\n",
    "x_train.shape"
   ],
   "metadata": {
    "collapsed": false
   }
  },
  {
   "cell_type": "code",
   "execution_count": 50,
   "outputs": [],
   "source": [
    "x_val = x_val / 255\n",
    "x_test = x_test / 255\n",
    "x_train = x_train / 255\n",
    "# x_train = np.dot(x_train, [0.299, 0.587, 0.114])\n",
    "# x_test = np.dot(x_test, [0.299, 0.587, 0.114])\n",
    "# x_val = np.dot(x_val, [0.299, 0.587, 0.114])"
   ],
   "metadata": {
    "collapsed": false
   }
  },
  {
   "cell_type": "code",
   "execution_count": 50,
   "outputs": [],
   "source": [],
   "metadata": {
    "collapsed": false
   }
  },
  {
   "cell_type": "code",
   "execution_count": 51,
   "outputs": [
    {
     "name": "stdout",
     "output_type": "stream",
     "text": [
      "Dữ liệu y ban đầu  [6]\n",
      "Dữ liệu y sau one-hot encoding  [0. 0. 0. 0. 0. 0. 1. 0. 0. 0.]\n"
     ]
    }
   ],
   "source": [
    "# 4. One hot encoding label (Y)\n",
    "Y_train = np_utils.to_categorical(y_train, 10)\n",
    "Y_val = np_utils.to_categorical(y_val, 10)\n",
    "Y_test = np_utils.to_categorical(y_test, 10)\n",
    "print('Dữ liệu y ban đầu ', y_train[0])\n",
    "print('Dữ liệu y sau one-hot encoding ',Y_train[0])"
   ],
   "metadata": {
    "collapsed": false
   }
  },
  {
   "cell_type": "code",
   "execution_count": 52,
   "outputs": [],
   "source": [
    "# Khởi tạo mô hình\n",
    "model = Sequential()\n",
    "\n",
    "# Thêm lớp Convolutional và MaxPooling\n",
    "model.add(Conv2D(32, (3, 3), padding='same', activation='relu', input_shape=(32, 32, 3)))\n",
    "model.add(MaxPooling2D(pool_size=(2, 2)))\n",
    "\n",
    "model.add(Conv2D(64, (3, 3), padding='same', activation='relu'))\n",
    "model.add(MaxPooling2D(pool_size=(2, 2)))\n",
    "\n",
    "# Flatten dữ liệu\n",
    "model.add(Flatten())\n",
    "\n",
    "# Thêm các lớp fully connected\n",
    "model.add(Dense(128, activation='relu'))\n",
    "model.add(Dense(10, activation='softmax'))"
   ],
   "metadata": {
    "collapsed": false
   }
  },
  {
   "cell_type": "code",
   "execution_count": 53,
   "outputs": [],
   "source": [
    "# 6. Compile model, chỉ rõ hàm loss_function nào được sử dụng, phương thức\n",
    "# đùng để tối ưu hàm loss function.\n",
    "model.compile(loss='categorical_crossentropy',\n",
    "              optimizer='adam',\n",
    "              metrics=['accuracy'])"
   ],
   "metadata": {
    "collapsed": false
   }
  },
  {
   "cell_type": "code",
   "execution_count": 54,
   "outputs": [
    {
     "name": "stdout",
     "output_type": "stream",
     "text": [
      "Epoch 1/10\n",
      "625/625 [==============================] - 47s 75ms/step - loss: 1.4473 - accuracy: 0.4820 - val_loss: 1.2358 - val_accuracy: 0.5701\n",
      "Epoch 2/10\n",
      "625/625 [==============================] - 54s 86ms/step - loss: 1.0767 - accuracy: 0.6222 - val_loss: 1.0131 - val_accuracy: 0.6425\n",
      "Epoch 3/10\n",
      "625/625 [==============================] - 43s 69ms/step - loss: 0.9335 - accuracy: 0.6735 - val_loss: 1.0113 - val_accuracy: 0.6470\n",
      "Epoch 4/10\n",
      "625/625 [==============================] - 41s 66ms/step - loss: 0.8367 - accuracy: 0.7092 - val_loss: 0.9482 - val_accuracy: 0.6769\n",
      "Epoch 5/10\n",
      "625/625 [==============================] - 48s 76ms/step - loss: 0.7578 - accuracy: 0.7348 - val_loss: 0.8843 - val_accuracy: 0.6983\n",
      "Epoch 6/10\n",
      "625/625 [==============================] - 41s 66ms/step - loss: 0.6787 - accuracy: 0.7630 - val_loss: 0.8610 - val_accuracy: 0.7081\n",
      "Epoch 7/10\n",
      "625/625 [==============================] - 52s 84ms/step - loss: 0.6179 - accuracy: 0.7832 - val_loss: 0.9010 - val_accuracy: 0.7026\n",
      "Epoch 8/10\n",
      "625/625 [==============================] - 45s 72ms/step - loss: 0.5483 - accuracy: 0.8081 - val_loss: 0.8705 - val_accuracy: 0.7155\n",
      "Epoch 9/10\n",
      "625/625 [==============================] - 48s 77ms/step - loss: 0.4808 - accuracy: 0.8333 - val_loss: 0.9258 - val_accuracy: 0.7059\n",
      "Epoch 10/10\n",
      "625/625 [==============================] - 45s 72ms/step - loss: 0.4210 - accuracy: 0.8503 - val_loss: 0.9479 - val_accuracy: 0.7067\n"
     ]
    }
   ],
   "source": [
    "H = model.fit(x_train, Y_train, validation_data=(x_val, Y_val),\n",
    "batch_size=64, epochs=10, verbose=1)"
   ],
   "metadata": {
    "collapsed": false
   }
  },
  {
   "cell_type": "code",
   "execution_count": 55,
   "outputs": [
    {
     "name": "stdout",
     "output_type": "stream",
     "text": [
      "[0.9522261023521423, 0.7046999931335449]\n"
     ]
    }
   ],
   "source": [
    "from sklearn.metrics import accuracy_score\n",
    "score = model.evaluate(x_test, Y_test, verbose=0)\n",
    "print(score)\n",
    "Y_predict =model.predict(x_test)\n",
    "prediction = np.array([])\n",
    "for i in Y_predict:\n",
    "    prediction = np.append(prediction, np.argmax(i))"
   ],
   "metadata": {
    "collapsed": false
   }
  },
  {
   "cell_type": "code",
   "execution_count": 56,
   "outputs": [
    {
     "name": "stdout",
     "output_type": "stream",
     "text": [
      "0.7047\n"
     ]
    }
   ],
   "source": [
    "print(accuracy_score(y_test, prediction))"
   ],
   "metadata": {
    "collapsed": false
   }
  }
 ],
 "metadata": {
  "kernelspec": {
   "display_name": "Python 3",
   "language": "python",
   "name": "python3"
  },
  "language_info": {
   "codemirror_mode": {
    "name": "ipython",
    "version": 2
   },
   "file_extension": ".py",
   "mimetype": "text/x-python",
   "name": "python",
   "nbconvert_exporter": "python",
   "pygments_lexer": "ipython2",
   "version": "2.7.6"
  }
 },
 "nbformat": 4,
 "nbformat_minor": 0
}
