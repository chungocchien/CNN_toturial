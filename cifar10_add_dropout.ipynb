{
 "cells": [
  {
   "cell_type": "code",
   "execution_count": 8,
   "outputs": [],
   "source": [
    "import numpy as np\n",
    "# Load dữ liệu cifar10\n",
    "from keras.datasets import cifar10\n",
    "from keras.models import Sequential\n",
    "from keras.layers import Dense, Dropout, Activation, Flatten\n",
    "from keras.layers import Conv2D, MaxPooling2D\n",
    "from keras.optimizer_v1 import SGD\n",
    "from keras.utils import np_utils\n",
    "import keras\n",
    "from sklearn.preprocessing import MinMaxScaler"
   ],
   "metadata": {
    "collapsed": false
   }
  },
  {
   "cell_type": "code",
   "execution_count": 9,
   "outputs": [],
   "source": [
    "(x_train, y_train), (x_test, y_test) = cifar10.load_data()"
   ],
   "metadata": {
    "collapsed": false
   }
  },
  {
   "cell_type": "code",
   "execution_count": 10,
   "outputs": [
    {
     "data": {
      "text/plain": "(40000, 32, 32, 3)"
     },
     "execution_count": 10,
     "metadata": {},
     "output_type": "execute_result"
    }
   ],
   "source": [
    "x_val, y_val = x_train[40000:50000,:], y_train[40000:50000]\n",
    "x_train, y_train = x_train[:40000,:], y_train[:40000]\n",
    "x_train.shape"
   ],
   "metadata": {
    "collapsed": false
   }
  },
  {
   "cell_type": "code",
   "execution_count": 11,
   "outputs": [],
   "source": [
    "scale = MinMaxScaler()\n",
    "\n",
    "x_val = x_val / 255\n",
    "x_test = x_test / 255\n",
    "x_train = x_train / 255\n",
    "# x_train = np.dot(x_train, [0.299, 0.587, 0.114])\n",
    "# x_test = np.dot(x_test, [0.299, 0.587, 0.114])\n",
    "# x_val = np.dot(x_val, [0.299, 0.587, 0.114])"
   ],
   "metadata": {
    "collapsed": false
   }
  },
  {
   "cell_type": "code",
   "execution_count": 12,
   "outputs": [
    {
     "name": "stdout",
     "output_type": "stream",
     "text": [
      "Dữ liệu y ban đầu  [6]\n",
      "Dữ liệu y sau one-hot encoding  [0. 0. 0. 0. 0. 0. 1. 0. 0. 0.]\n"
     ]
    }
   ],
   "source": [
    "# 4. One hot encoding label (Y)\n",
    "Y_train = np_utils.to_categorical(y_train, 10)\n",
    "Y_val = np_utils.to_categorical(y_val, 10)\n",
    "Y_test = np_utils.to_categorical(y_test, 10)\n",
    "print('Dữ liệu y ban đầu ', y_train[0])\n",
    "print('Dữ liệu y sau one-hot encoding ',Y_train[0])"
   ],
   "metadata": {
    "collapsed": false
   }
  },
  {
   "cell_type": "code",
   "execution_count": 13,
   "outputs": [],
   "source": [
    "model=Sequential()\n",
    "model.add(Conv2D(32,(3,3),activation='relu',kernel_initializer='he_uniform',padding='same',input_shape=(32,32,3)))\n",
    "model.add(Conv2D(32,(3,3),activation='relu',kernel_initializer='he_uniform',padding='same'))\n",
    "model.add(MaxPooling2D((2,2)))\n",
    "model.add(Dropout(0.2))\n",
    "model.add(Conv2D(64,(3,3),activation='relu',kernel_initializer='he_uniform',padding='same'))\n",
    "model.add(Conv2D(64,(3,3),activation='relu',kernel_initializer='he_uniform',padding='same'))\n",
    "model.add(MaxPooling2D((2,2)))\n",
    "model.add(Dropout(0.2))\n",
    "model.add(Conv2D(128,(3,3),activation='relu',kernel_initializer='he_uniform',padding='same'))\n",
    "model.add(Conv2D(128,(3,3),activation='relu',kernel_initializer='he_uniform',padding='same'))\n",
    "model.add(MaxPooling2D((2,2)))\n",
    "model.add(Dropout(0.2))\n",
    "model.add(Flatten())\n",
    "model.add(Dense(128,activation='relu',kernel_initializer='he_uniform'))\n",
    "model.add(Dropout(0.2))\n",
    "model.add(Dense(10,activation='softmax'))"
   ],
   "metadata": {
    "collapsed": false
   }
  },
  {
   "cell_type": "code",
   "execution_count": 14,
   "outputs": [],
   "source": [
    "#compilemodel\n",
    "\n",
    "model.compile(optimizer='adam', loss='categorical_crossentropy', metrics=['accuracy'])"
   ],
   "metadata": {
    "collapsed": false
   }
  },
  {
   "cell_type": "code",
   "execution_count": 15,
   "outputs": [
    {
     "name": "stdout",
     "output_type": "stream",
     "text": [
      "Epoch 1/10\n",
      "625/625 [==============================] - 113s 179ms/step - loss: 1.6882 - accuracy: 0.3803 - val_loss: 1.2924 - val_accuracy: 0.5292\n",
      "Epoch 2/10\n",
      "625/625 [==============================] - 135s 215ms/step - loss: 1.2344 - accuracy: 0.5602 - val_loss: 1.0628 - val_accuracy: 0.6162\n",
      "Epoch 3/10\n",
      "625/625 [==============================] - 124s 198ms/step - loss: 1.0249 - accuracy: 0.6343 - val_loss: 0.9350 - val_accuracy: 0.6725\n",
      "Epoch 4/10\n",
      "625/625 [==============================] - 116s 185ms/step - loss: 0.8959 - accuracy: 0.6844 - val_loss: 0.7978 - val_accuracy: 0.7192\n",
      "Epoch 5/10\n",
      "625/625 [==============================] - 126s 202ms/step - loss: 0.8035 - accuracy: 0.7190 - val_loss: 0.7742 - val_accuracy: 0.7362\n",
      "Epoch 6/10\n",
      "625/625 [==============================] - 117s 188ms/step - loss: 0.7371 - accuracy: 0.7422 - val_loss: 0.6914 - val_accuracy: 0.7612\n",
      "Epoch 7/10\n",
      "625/625 [==============================] - 118s 189ms/step - loss: 0.6850 - accuracy: 0.7610 - val_loss: 0.6942 - val_accuracy: 0.7640\n",
      "Epoch 8/10\n",
      "625/625 [==============================] - 115s 184ms/step - loss: 0.6333 - accuracy: 0.7781 - val_loss: 0.7239 - val_accuracy: 0.7552\n",
      "Epoch 9/10\n",
      "625/625 [==============================] - 118s 189ms/step - loss: 0.5989 - accuracy: 0.7905 - val_loss: 0.6529 - val_accuracy: 0.7693\n",
      "Epoch 10/10\n",
      "625/625 [==============================] - 114s 183ms/step - loss: 0.5669 - accuracy: 0.8026 - val_loss: 0.6494 - val_accuracy: 0.7834\n"
     ]
    }
   ],
   "source": [
    "H = model.fit(x_train, Y_train, validation_data=(x_val, Y_val),\n",
    "batch_size=64, epochs=10, verbose=1)"
   ],
   "metadata": {
    "collapsed": false
   }
  },
  {
   "cell_type": "code",
   "execution_count": 16,
   "outputs": [
    {
     "name": "stdout",
     "output_type": "stream",
     "text": [
      "[0.6669554114341736, 0.7792999744415283]\n"
     ]
    }
   ],
   "source": [
    "from sklearn.metrics import accuracy_score\n",
    "score = model.evaluate(x_test, Y_test, verbose=0)\n",
    "print(score)\n",
    "Y_predict =model.predict(x_test)\n",
    "prediction = np.array([])\n",
    "for i in Y_predict:\n",
    "    prediction = np.append(prediction, np.argmax(i))"
   ],
   "metadata": {
    "collapsed": false
   }
  },
  {
   "cell_type": "code",
   "execution_count": 17,
   "outputs": [
    {
     "name": "stdout",
     "output_type": "stream",
     "text": [
      "0.7793\n"
     ]
    }
   ],
   "source": [
    "print(accuracy_score(y_test, prediction))"
   ],
   "metadata": {
    "collapsed": false
   }
  }
 ],
 "metadata": {
  "kernelspec": {
   "display_name": "Python 3",
   "language": "python",
   "name": "python3"
  },
  "language_info": {
   "codemirror_mode": {
    "name": "ipython",
    "version": 2
   },
   "file_extension": ".py",
   "mimetype": "text/x-python",
   "name": "python",
   "nbconvert_exporter": "python",
   "pygments_lexer": "ipython2",
   "version": "2.7.6"
  }
 },
 "nbformat": 4,
 "nbformat_minor": 0
}
